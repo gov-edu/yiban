{
 "cells": [
  {
   "cell_type": "markdown",
   "metadata": {},
   "source": [
    "# 以学院为单位进行划分"
   ]
  },
  {
   "cell_type": "code",
   "execution_count": 1,
   "metadata": {},
   "outputs": [],
   "source": [
    "import pandas as pd\n",
    "import numpy as np"
   ]
  },
  {
   "cell_type": "markdown",
   "metadata": {},
   "source": [
    "## 导入学生手册考试成绩数据"
   ]
  },
  {
   "cell_type": "code",
   "execution_count": 2,
   "metadata": {},
   "outputs": [],
   "source": [
    "df = pd.read_excel(\"学生手册考试成绩.xlsx\")"
   ]
  },
  {
   "cell_type": "markdown",
   "metadata": {},
   "source": [
    "## 预处理成绩数据dtype"
   ]
  },
  {
   "cell_type": "code",
   "execution_count": 3,
   "metadata": {},
   "outputs": [],
   "source": [
    "df['总成绩'].replace('缺考','-1',inplace=True)"
   ]
  },
  {
   "cell_type": "code",
   "execution_count": 4,
   "metadata": {},
   "outputs": [],
   "source": [
    "df[u'总成绩']=df[u'总成绩'].astype('int64')"
   ]
  },
  {
   "cell_type": "markdown",
   "metadata": {},
   "source": [
    "## 创建学院信息"
   ]
  },
  {
   "cell_type": "code",
   "execution_count": 5,
   "metadata": {},
   "outputs": [],
   "source": [
    "data = np.array(['法政与公共管理学院','国际文化交流学院', '化学与材料科学学院', '教育学院' , \n",
    "                 '历史文化学院','旅游系','马克思主义学院','美术与设计学院','软件学院','商学院',\n",
    "                 '生命科学学院','数学与信息科学学院','体育学院','外国语学院','文学院','物理科学与信息工程学院',\n",
    "                 '新闻传播学院','信息技术学院','音乐学院','职业技术学院','中燃工学院','资源与环境科学学院'])"
   ]
  },
  {
   "cell_type": "code",
   "execution_count": 6,
   "metadata": {},
   "outputs": [],
   "source": [
    "college = pd.Series(data)"
   ]
  },
  {
   "cell_type": "code",
   "execution_count": 7,
   "metadata": {},
   "outputs": [],
   "source": [
    "H = pd.DataFrame(np.random.randn(22,8),columns=[\"学院名称\",'总人数','通过人数','80分以上','75分以上','未通过人数','及格率','优秀率'])"
   ]
  },
  {
   "cell_type": "markdown",
   "metadata": {},
   "source": [
    "## 生成22个学院的成绩表"
   ]
  },
  {
   "cell_type": "code",
   "execution_count": 8,
   "metadata": {},
   "outputs": [],
   "source": [
    "for i in range(0,22):\n",
    "    m = df.loc[(df['学院名称'] == college[i]), ['姓名', '学号', '学院名称', '班级', '总成绩', '认证状态']]\n",
    "    a=m.loc[(df['总成绩'] >= 80)].count()[0]\n",
    "    b=m.loc[(df['总成绩'] >= 75)].count()[0]\n",
    "    c=m.loc[(df['总成绩'] >= 70)].count()[0]\n",
    "    d=m.count()[0]\n",
    "    e=format(float(a)/float(d),'.3f')\n",
    "    g=format(float(c)/float(d),'.3f')\n",
    "    h=d-c\n",
    "    H.loc[i]=[college[i],d,c,a,b,h,g,e]\n",
    "    m.reset_index(drop = True)#重建索引\n",
    "    #m.to_excel(college[i]+\".xlsx\", sheet_name='学生手册考试成绩')"
   ]
  },
  {
   "cell_type": "code",
   "execution_count": 9,
   "metadata": {},
   "outputs": [],
   "source": [
    "H.to_excel(\"学院分析.xlsx\", sheet_name='学生手册考试成绩')"
   ]
  }
 ],
 "metadata": {
  "kernelspec": {
   "display_name": "Python 3",
   "language": "python",
   "name": "python3"
  },
  "language_info": {
   "codemirror_mode": {
    "name": "ipython",
    "version": 3
   },
   "file_extension": ".py",
   "mimetype": "text/x-python",
   "name": "python",
   "nbconvert_exporter": "python",
   "pygments_lexer": "ipython3",
   "version": "3.6.5"
  }
 },
 "nbformat": 4,
 "nbformat_minor": 2
}
